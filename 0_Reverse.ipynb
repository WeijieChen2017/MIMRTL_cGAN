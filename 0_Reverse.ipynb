{
 "cells": [
  {
   "cell_type": "code",
   "execution_count": 6,
   "metadata": {},
   "outputs": [],
   "source": [
    "import os\n",
    "import glob\n",
    "import cv2\n",
    "import nibabel as nib\n",
    "import matplotlib.pyplot as plt\n",
    "import numpy as np\n",
    "\n",
    "from PIL import Image\n",
    "import nibabel\n",
    "from skimage.transform import radon, iradon\n",
    "from skimage.morphology import disk\n",
    "from skimage.filters import threshold_otsu, rank"
   ]
  },
  {
   "cell_type": "code",
   "execution_count": 2,
   "metadata": {},
   "outputs": [],
   "source": [
    "def maxmin_norm(data):\n",
    "    MAX = np.amax(data)\n",
    "    MIN = np.amin(data)\n",
    "    data = (data - MIN)/(MAX-MIN)\n",
    "    return data"
   ]
  },
  {
   "cell_type": "code",
   "execution_count": 8,
   "metadata": {},
   "outputs": [],
   "source": [
    "name_dataset = \"2d_enhanced_v2\"\n",
    "\n",
    "for folder_name in [\"trainA\", \"trainB\", \"testA\", \"testB\"]:\n",
    "    path = \"./pytorch-CycleGAN-and-pix2pix/datasets/\"+name_dataset+\"/\"+folder_name+\"/\"\n",
    "    if not os.path.exists(path):\n",
    "        os.makedirs(path)\n",
    "        \n",
    "blur_path = \"./data/\"+name_dataset+\"/blur/\"\n",
    "if not os.path.exists(blur_path):\n",
    "    os.makedirs(blur_path)\n",
    "    \n",
    "pure_path = \"./data/\"+name_dataset+\"/pure/\"\n",
    "if not os.path.exists(pure_path):\n",
    "    os.makedirs(pure_path)"
   ]
  },
  {
   "cell_type": "code",
   "execution_count": 10,
   "metadata": {},
   "outputs": [
    {
     "name": "stdout",
     "output_type": "stream",
     "text": [
      "./data/2d_enhanced_v2/mri/subj01_t1bravo.nii\n",
      "./data/2d_enhanced_v2/pure//subj01_t1br_inv_mask_p80.nii\n"
     ]
    }
   ],
   "source": [
    "list_ori = glob.glob(\"./data/\"+name_dataset+\"/mri/*.nii\")\n",
    "list_ori.sort()\n",
    "for path_ori in list_ori:\n",
    "    print(path_ori)\n",
    "    nii_name = os.path.basename(path_ori)[:-7]\n",
    "    nii_file = nib.load(path_ori)\n",
    "    data_mri = np.asanyarray(nii_file.dataobj)\n",
    "    \n",
    "    otsu_data = np.zeros(data_mri.shape)\n",
    "    for idx in range(data_mri.shape[2]):\n",
    "        if idx >=0 and idx < 225:\n",
    "            img = data_mri[:, :, idx]    \n",
    "            otsu_data[:, :, idx] = img >= threshold_otsu(img)\n",
    "    \n",
    "    # reverse\n",
    "    norm_mri = maxmin_norm(data_mri)*255\n",
    "    norm_mri[otsu_data>0] = 255-norm_mri[otsu_data>0]\n",
    "    \n",
    "    cut_th_0 = 80\n",
    "    cut_point_0 = np.percentile(norm_mri, cut_th_0)\n",
    "#     cut_point_1 = np.percentile(norm_mri, 99.9)\n",
    "    \n",
    "    norm_mri[norm_mri < cut_point_0] = cut_point_0\n",
    "#     norm_mri[norm_mri > cut_point_1] = cut_point_1\n",
    "    norm_mri = maxmin_norm(norm_mri)*255\n",
    "    \n",
    "    \n",
    "    file_inv = nib.Nifti1Image(norm_mri, nii_file.affine, nii_file.header)\n",
    "    save_name = pure_path+\"/\"+nii_name+\"_inv_mask_p\"+str(cut_th_0)+\".nii\"\n",
    "    nib.save(file_inv, save_name)\n",
    "    \n",
    "    print(save_name)"
   ]
  },
  {
   "cell_type": "code",
   "execution_count": null,
   "metadata": {},
   "outputs": [],
   "source": []
  }
 ],
 "metadata": {
  "kernelspec": {
   "display_name": "Python 3",
   "language": "python",
   "name": "python3"
  },
  "language_info": {
   "codemirror_mode": {
    "name": "ipython",
    "version": 3
   },
   "file_extension": ".py",
   "mimetype": "text/x-python",
   "name": "python",
   "nbconvert_exporter": "python",
   "pygments_lexer": "ipython3",
   "version": "3.7.6"
  }
 },
 "nbformat": 4,
 "nbformat_minor": 2
}
