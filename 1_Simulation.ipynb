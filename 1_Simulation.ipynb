{
 "cells": [
  {
   "cell_type": "code",
   "execution_count": 73,
   "metadata": {},
   "outputs": [],
   "source": [
    "import os\n",
    "import glob\n",
    "import cv2\n",
    "import nibabel as nib\n",
    "import matplotlib.pyplot as plt\n",
    "import numpy as np\n",
    "\n",
    "from PIL import Image"
   ]
  },
  {
   "cell_type": "code",
   "execution_count": 74,
   "metadata": {},
   "outputs": [],
   "source": [
    "def maxmin_norm(data):\n",
    "    MAX = np.amax(data)\n",
    "    MIN = np.amin(data)\n",
    "    data = (data - MIN)/(MAX-MIN)\n",
    "    return data"
   ]
  },
  {
   "cell_type": "code",
   "execution_count": 75,
   "metadata": {},
   "outputs": [],
   "source": [
    "import nibabel\n",
    "from nibabel import processing\n",
    "\n",
    "def nib_smooth(file_mri, data, fwhm, tag, save_path):\n",
    "    nii_file = nibabel.Nifti1Image(data, file_mri.affine, file_mri.header)\n",
    "    smoothed = processing.smooth_image(nii_file, fwhm=idx_fwhm, mode='nearest')\n",
    "    smoothed_data = maxmin_norm(np.asanyarray(smoothed.dataobj))\n",
    "    smoothed_file = nibabel.Nifti1Image(smoothed_data, file_mri.affine, file_mri.header)\n",
    "#     print(np.amax(smoothed_file.get_fdata()))\n",
    "    nibabel.save(smoothed_file, save_path+\"fwhm_\"+str(idx_fwhm)+\"_\"+tag+\".nii\")\n",
    "    print(\"fwhm_\"+str(idx_fwhm)+\"_\"+tag+\".nii\")"
   ]
  },
  {
   "cell_type": "code",
   "execution_count": 76,
   "metadata": {},
   "outputs": [],
   "source": [
    "name_dataset = \"2d_enhanced_v4\"\n",
    "\n",
    "for folder_name in [\"trainA\", \"trainB\", \"testA\", \"testB\"]:\n",
    "    path = \"./pytorch-CycleGAN-and-pix2pix/datasets/\"+name_dataset+\"/\"+folder_name+\"/\"\n",
    "    if not os.path.exists(path):\n",
    "        os.makedirs(path)\n",
    "        \n",
    "blur_path = \"./data/\"+name_dataset+\"/blur/\"\n",
    "if not os.path.exists(blur_path):\n",
    "    os.makedirs(blur_path)\n",
    "    \n",
    "pure_path = \"./data/\"+name_dataset+\"/pure/\"\n",
    "if not os.path.exists(pure_path):\n",
    "    os.makedirs(pure_path)"
   ]
  },
  {
   "cell_type": "code",
   "execution_count": 78,
   "metadata": {},
   "outputs": [
    {
     "name": "stdout",
     "output_type": "stream",
     "text": [
      "Gau noise:  []\n",
      "Poi noise:  []\n",
      "Radon:  False\n"
     ]
    }
   ],
   "source": [
    "import nibabel\n",
    "from skimage.transform import radon, iradon\n",
    "\n",
    "fwhm_hub = [3,5,7,9,11,13]\n",
    "# gau_sigma_hub = [1e-3,3e-3,5e-3,7e-3,9e-3]\n",
    "# poi_sigma_hub = [1,3,5,7,9]\n",
    "# gau_sigma_hub=[1e-3, 5e-3]\n",
    "# poi_sigma_hub=[1, 5]\n",
    "# gau_sigma_hub=[1*1e-2,3*1e-2]\n",
    "# poi_sigma_hub=[1e2]\n",
    "gau_sigma_hub=[]\n",
    "poi_sigma_hub=[]\n",
    "flag_Radon = False\n",
    "# fwhm_hub = [0, 0.5, 1, 1.5, 2, 2.5]\n",
    "theta = np.linspace(0., 360., 28*4, endpoint=False) # max(image.shape)\n",
    "\n",
    "print(\"Gau noise: \", gau_sigma_hub)\n",
    "print(\"Poi noise: \", poi_sigma_hub)\n",
    "print(\"Radon: \", flag_Radon)"
   ]
  },
  {
   "cell_type": "code",
   "execution_count": 79,
   "metadata": {},
   "outputs": [
    {
     "name": "stdout",
     "output_type": "stream",
     "text": [
      "./data/2d_enhanced_v4/pure/subj01_inv.nii\n",
      "(512, 512, 284)\n",
      "fwhm_3_subj01_inv.nii\n",
      "fwhm_5_subj01_inv.nii\n",
      "fwhm_7_subj01_inv.nii\n",
      "fwhm_9_subj01_inv.nii\n",
      "fwhm_11_subj01_inv.nii\n",
      "fwhm_13_subj01_inv.nii\n"
     ]
    }
   ],
   "source": [
    "list_ori = glob.glob(pure_path+\"*.nii\")\n",
    "list_ori.sort()\n",
    "for path_ori in list_ori:\n",
    "    print(path_ori)\n",
    "    file_mri = nibabel.load(path_ori)\n",
    "    data_mri = np.asanyarray(file_mri.dataobj)\n",
    "    file_name = os.path.basename(path_ori)\n",
    "#     nibabel.save(file_mri, pure_path+file_name)\n",
    "    print(data_mri.shape)\n",
    "\n",
    "    for idx_fwhm in fwhm_hub:\n",
    "        tag = file_name[:-4]+\"\"\n",
    "        nib_smooth(file_mri, data_mri, fwhm=idx_fwhm, tag=tag, save_path=blur_path)\n",
    "\n",
    "        # gaussian noise\n",
    "        for idx_gau_sigma in gau_sigma_hub:\n",
    "            noise = np.random.normal(0, idx_gau_sigma*np.var(data_mri), data_mri.shape)\n",
    "            noisy_img = data_mri + noise\n",
    "            tag = file_name[:-4]+\"_gs_\"+'{:.0e}'.format(idx_gau_sigma)\n",
    "            nib_smooth(file_mri, noisy_img, fwhm=idx_fwhm, tag=tag, save_path=blur_path)\n",
    "\n",
    "        # poisson noise\n",
    "        for idx_poi_sigma in poi_sigma_hub:\n",
    "            noise = np.random.poisson(size=data_mri.shape, lam=np.mean(data_mri)*idx_poi_sigma)\n",
    "            noisy_img = data_mri + noise\n",
    "            tag = file_name[:-4]+\"_ps_\"+'{:.0e}'.format(idx_poi_sigma)\n",
    "            nib_smooth(file_mri, noisy_img, fwhm=idx_fwhm, tag=tag, save_path=blur_path)\n",
    "    \n",
    "    if flag_Radon:\n",
    "        # radon transform, https://scikit-image.org/docs/dev/auto_examples/transform/plot_radon_transform.html\n",
    "        radon_img = np.zeros(data_mri.shape)\n",
    "        for idx_slice in range(data_mri.shape[2]):\n",
    "            orginal_img = data_mri[:, :, idx_slice]\n",
    "            sinogram = radon(orginal_img, theta=theta, circle=False)\n",
    "            reconstruction_fbp = iradon(sinogram, theta=theta, circle=False)\n",
    "            radon_img[:, :, idx_slice] = reconstruction_fbp\n",
    "\n",
    "        for idx_fwhm in fwhm_hub:\n",
    "            tag = file_name[:-4]+\"_radon\"\n",
    "            nib_smooth(file_mri, radon_img, fwhm=idx_fwhm, tag=tag, save_path=blur_path)\n",
    "\n",
    "            # gaussian noise\n",
    "            for idx_gau_sigma in gau_sigma_hub:\n",
    "                noise = np.random.normal(0, idx_gau_sigma*np.var(data_mri), data_mri.shape)\n",
    "                noisy_img = radon_img + noise\n",
    "                tag = file_name[:-4]+\"_radon_gs_\"+'{:.0e}'.format(idx_gau_sigma)\n",
    "                nib_smooth(file_mri, noisy_img, fwhm=idx_fwhm, tag=tag, save_path=blur_path)\n",
    "\n",
    "            # poisson noise\n",
    "            for idx_poi_sigma in poi_sigma_hub:\n",
    "                noise = np.random.poisson(size=data_mri.shape, lam=np.mean(data_mri)*idx_poi_sigma)\n",
    "                noisy_img = radon_img + noise\n",
    "                tag = file_name[:-4]+\"_radon_ps_\"+'{:.0e}'.format(idx_poi_sigma)\n",
    "                nib_smooth(file_mri, noisy_img, fwhm=idx_fwhm, tag=tag, save_path=blur_path)"
   ]
  },
  {
   "cell_type": "code",
   "execution_count": null,
   "metadata": {},
   "outputs": [],
   "source": []
  }
 ],
 "metadata": {
  "kernelspec": {
   "display_name": "Python 3",
   "language": "python",
   "name": "python3"
  },
  "language_info": {
   "codemirror_mode": {
    "name": "ipython",
    "version": 3
   },
   "file_extension": ".py",
   "mimetype": "text/x-python",
   "name": "python",
   "nbconvert_exporter": "python",
   "pygments_lexer": "ipython3",
   "version": "3.7.6"
  }
 },
 "nbformat": 4,
 "nbformat_minor": 2
}
