{
 "cells": [
  {
   "cell_type": "code",
   "execution_count": 21,
   "metadata": {},
   "outputs": [],
   "source": [
    "import os\n",
    "import glob\n",
    "import cv2\n",
    "import nibabel as nib\n",
    "import matplotlib.pyplot as plt\n",
    "import numpy as np\n",
    "\n",
    "from PIL import Image"
   ]
  },
  {
   "cell_type": "code",
   "execution_count": 22,
   "metadata": {},
   "outputs": [],
   "source": [
    "def maxmin_norm(data):\n",
    "    MAX = np.amax(data)\n",
    "    MIN = np.amin(data)\n",
    "    data = (data - MIN)/(MAX-MIN)\n",
    "    return data"
   ]
  },
  {
   "cell_type": "code",
   "execution_count": 23,
   "metadata": {},
   "outputs": [],
   "source": [
    "def SpotTheDifference_Generator(dataA, dataB, name_dataset, n_slice=1, name_tag=\"\"):\n",
    "    # shape supposed to be 512*512*284 by default\n",
    "    assert dataA.shape == dataB.shape, (\"DataA should share the same shape with DataB.\")\n",
    "    path2save = \"./pytorch-CycleGAN-and-pix2pix/datasets/\"+name_dataset+\"/train/\"\n",
    "    h, w, c = dataA.shape\n",
    "    img = np.zeros((n_slice, h, w*2))\n",
    "        \n",
    "    if n_slice == 1:\n",
    "        for idx in range(c):\n",
    "            img[:, :, :w] = dataA[:, :, idx]\n",
    "            img[:, :, w:] = dataB[:, :, idx]\n",
    "            name2save = path2save+name_tag+\"_\"+str(idx)+\".npy\"\n",
    "            np.save(name2save, img)\n",
    "        print(str(c)+\" images have been saved.\")\n",
    "    else:\n",
    "        for idx in range(c):\n",
    "            if idx == 0:\n",
    "                img[0, :, :w] = dataA[:, :, 0]\n",
    "                img[1, :, :w] = dataA[:, :, 0]\n",
    "                img[2, :, :w] = dataA[:, :, 1]\n",
    "                \n",
    "                img[0, :, w:] = dataB[:, :, 0]\n",
    "                img[1, :, w:] = dataB[:, :, 0]\n",
    "                img[2, :, w:] = dataB[:, :, 1]\n",
    "            else:\n",
    "                if idx == c-1:\n",
    "                    img[0, :, :w] = dataA[:, :, c-2]\n",
    "                    img[1, :, :w] = dataA[:, :, c-1]\n",
    "                    img[2, :, :w] = dataA[:, :, c-1]\n",
    "                    \n",
    "                    img[0, :, w:] = dataB[:, :, c-2]\n",
    "                    img[1, :, w:] = dataB[:, :, c-1]\n",
    "                    img[2, :, w:] = dataB[:, :, c-1]\n",
    "                else:\n",
    "                    img[0, :, :w] = dataA[:, :, idx-1]\n",
    "                    img[1, :, :w] = dataA[:, :, idx]\n",
    "                    img[2, :, :w] = dataA[:, :, idx+1]\n",
    "                    \n",
    "                    img[0, :, w:] = dataB[:, :, idx-1]\n",
    "                    img[1, :, w:] = dataB[:, :, idx]\n",
    "                    img[2, :, w:] = dataB[:, :, idx+1]\n",
    "            name2save = path2save+name_tag+\"_\"+str(idx)+\".npy\"\n",
    "            np.save(name2save, img)\n",
    "        print(str(c)+\" images have been saved.\")"
   ]
  },
  {
   "cell_type": "code",
   "execution_count": 24,
   "metadata": {},
   "outputs": [],
   "source": [
    "def SingleImage_Generator(dataA, name_dataset, n_slice=1, name_tag=\"\"):\n",
    "    # shape supposed to be 512*512*284 by default\n",
    "    path2save = \"./pytorch-CycleGAN-and-pix2pix/datasets/\"+name_dataset+\"/test/\"\n",
    "    h, w, c = dataA.shape\n",
    "    img = np.zeros((n_slice, h, w))\n",
    "        \n",
    "    if n_slice == 1:\n",
    "        for idx in range(c):\n",
    "            img[:, :, :] = dataA[:, :, idx]\n",
    "            img = np.asarray(img, dtype=np.float())\n",
    "            name2save = path2save+name_tag+\"_\"+str(idx)+\".npy\"\n",
    "            np.save(name2save, img)\n",
    "        print(str(c)+\" images have been saved.\")\n",
    "    else:\n",
    "        for idx in range(c):\n",
    "            if idx == 0:\n",
    "                img[0, :, :] = dataA[:, :, 0]\n",
    "                img[1, :, :] = dataA[:, :, 0]\n",
    "                img[2, :, :] = dataA[:, :, 1]\n",
    "            else:\n",
    "                if idx == c-1:\n",
    "                    img[0, :, :] = dataA[:, :, c-2]\n",
    "                    img[1, :, :] = dataA[:, :, c-1]\n",
    "                    img[2, :, :] = dataA[:, :, c-1]\n",
    "                else:\n",
    "                    img[0, :, :] = dataA[:, :, idx-1]\n",
    "                    img[1, :, :] = dataA[:, :, idx]\n",
    "                    img[2, :, :] = dataA[:, :, idx+1]\n",
    "            name2save = path2save+name_tag+\"_\"+str(idx)+\".npy\"\n",
    "            img = np.asarray(img, dtype=np.float())\n",
    "            np.save(name2save, img)\n",
    "        print(str(c)+\" images have been saved.\")"
   ]
  },
  {
   "cell_type": "code",
   "execution_count": 28,
   "metadata": {},
   "outputs": [],
   "source": [
    "name_dataset = \"2d_enhanced_v4\"\n",
    "n_slice = 3\n",
    "\n",
    "import os\n",
    "\n",
    "for folder_name in [\"train\", \"test\"]:\n",
    "    path = \"./pytorch-CycleGAN-and-pix2pix/datasets/\"+name_dataset+\"/\"+folder_name+\"/\"\n",
    "    if not os.path.exists(path):\n",
    "        os.makedirs(path)"
   ]
  },
  {
   "cell_type": "markdown",
   "metadata": {},
   "source": [
    "## test dataset"
   ]
  },
  {
   "cell_type": "code",
   "execution_count": 55,
   "metadata": {
    "scrolled": true
   },
   "outputs": [
    {
     "name": "stdout",
     "output_type": "stream",
     "text": [
      "Test:\n",
      "subj01_pet\n",
      "284 images have been saved.\n",
      "------------------------------------------------------------------------\n"
     ]
    }
   ],
   "source": [
    "list_ori = glob.glob(\"./data/\"+name_dataset+\"/test/*.nii\")\n",
    "list_ori.sort()\n",
    "print(\"Test:\")\n",
    "for path_ori in list_ori:\n",
    "    filename_ori = os.path.basename(path_ori)[:]\n",
    "    filename_ori = filename_ori[:filename_ori.find(\".\")]\n",
    "    print(filename_ori)\n",
    "    data_ori = maxmin_norm(nib.load(path_ori).get_fdata())\n",
    "    SingleImage_Generator(dataA=data_ori, name_dataset=name_dataset, n_slice=n_slice, name_tag=filename_ori)\n",
    "    print(\"------------------------------------------------------------------------\")"
   ]
  },
  {
   "cell_type": "markdown",
   "metadata": {},
   "source": [
    "## training dataset"
   ]
  },
  {
   "cell_type": "code",
   "execution_count": 29,
   "metadata": {},
   "outputs": [
    {
     "name": "stdout",
     "output_type": "stream",
     "text": [
      "TrainA:\n",
      "subj01_inv\n",
      "Pairs\n",
      "A: subj01_inv\n",
      "B: fwhm_11_subj01_inv\n",
      "284 images have been saved.\n",
      "Pairs\n",
      "A: subj01_inv\n",
      "B: fwhm_13_subj01_inv\n",
      "284 images have been saved.\n",
      "Pairs\n",
      "A: subj01_inv\n",
      "B: fwhm_3_subj01_inv\n",
      "284 images have been saved.\n",
      "Pairs\n",
      "A: subj01_inv\n",
      "B: fwhm_5_subj01_inv\n",
      "284 images have been saved.\n",
      "Pairs\n",
      "A: subj01_inv\n",
      "B: fwhm_7_subj01_inv\n",
      "284 images have been saved.\n",
      "Pairs\n",
      "A: subj01_inv\n",
      "B: fwhm_9_subj01_inv\n",
      "284 images have been saved.\n",
      "------------------------------------------------------------------------\n"
     ]
    }
   ],
   "source": [
    "list_ori = glob.glob(\"./data/\"+name_dataset+\"/pure/*.nii\")\n",
    "list_ori.sort()\n",
    "for path_ori in list_ori:\n",
    "    print(\"TrainA:\")\n",
    "    filename_ori = os.path.basename(path_ori)[:]\n",
    "    filename_ori = filename_ori[:filename_ori.find(\".\")]\n",
    "    print(filename_ori)\n",
    "    data_ori = maxmin_norm(nib.load(path_ori).get_fdata())\n",
    "    \n",
    "    list_sim = glob.glob(\"./data/\"+name_dataset+\"/blur/*\"+filename_ori+\"*.nii\")\n",
    "    list_sim.sort()\n",
    "    \n",
    "    for path_sim in list_sim:\n",
    "        print(\"Pairs\")\n",
    "        filename_sim = os.path.basename(path_sim)[:]\n",
    "        filename_sim = filename_sim[:filename_sim.find(\".\")]\n",
    "        print(\"A:\", filename_ori)\n",
    "        print(\"B:\", filename_sim)\n",
    "                \n",
    "        data_sim = maxmin_norm(nib.load(path_sim).get_fdata())\n",
    "        SpotTheDifference_Generator(dataA=data_ori, dataB=data_sim,\n",
    "                                    name_dataset=name_dataset, n_slice=n_slice, name_tag=filename_sim)\n",
    "        \n",
    "    print(\"------------------------------------------------------------------------\")\n",
    "        \n",
    "        \n",
    "        \n",
    "#         data_ori = nib.load(path_ori).get_fdata()\n",
    "#         norm_ori = maxmin_norm(data_ori)*255\n",
    "#         sliced_save(data=norm_ori,\n",
    "#                     name_tag=os.path.basename(path_ori)[:-4],\n",
    "#                     path2save=\"./pytorch-CycleGAN-and-pix2pix/datasets/\"+name_dataset+\"/\"+folder_name+\"/\",\n",
    "#                     n_slice=n_slice)"
   ]
  },
  {
   "cell_type": "code",
   "execution_count": null,
   "metadata": {},
   "outputs": [],
   "source": []
  },
  {
   "cell_type": "code",
   "execution_count": null,
   "metadata": {},
   "outputs": [],
   "source": []
  },
  {
   "cell_type": "code",
   "execution_count": 25,
   "metadata": {},
   "outputs": [
    {
     "name": "stdout",
     "output_type": "stream",
     "text": [
      "[[1. 1. 1.]\n",
      " [1. 1. 1.]\n",
      " [1. 1. 1.]]\n"
     ]
    }
   ],
   "source": [
    "A = np.ones((3,3))\n",
    "print(A)"
   ]
  },
  {
   "cell_type": "code",
   "execution_count": 26,
   "metadata": {},
   "outputs": [
    {
     "name": "stdout",
     "output_type": "stream",
     "text": [
      "[[8. 8. 8.]\n",
      " [8. 8. 8.]\n",
      " [8. 8. 8.]]\n"
     ]
    }
   ],
   "source": [
    "B = np.ones((3,3))*8\n",
    "print(B)"
   ]
  },
  {
   "cell_type": "code",
   "execution_count": 27,
   "metadata": {},
   "outputs": [
    {
     "name": "stdout",
     "output_type": "stream",
     "text": [
      "[[1. 1. 1.]\n",
      " [1. 1. 1.]\n",
      " [1. 1. 1.]\n",
      " [8. 8. 8.]\n",
      " [8. 8. 8.]\n",
      " [8. 8. 8.]]\n"
     ]
    }
   ],
   "source": [
    "C = np.zeros((6,3))\n",
    "C[:3,:]=A\n",
    "C[3:,:]=B\n",
    "print(C)"
   ]
  },
  {
   "cell_type": "code",
   "execution_count": null,
   "metadata": {},
   "outputs": [],
   "source": []
  }
 ],
 "metadata": {
  "kernelspec": {
   "display_name": "Python 3",
   "language": "python",
   "name": "python3"
  },
  "language_info": {
   "codemirror_mode": {
    "name": "ipython",
    "version": 3
   },
   "file_extension": ".py",
   "mimetype": "text/x-python",
   "name": "python",
   "nbconvert_exporter": "python",
   "pygments_lexer": "ipython3",
   "version": "3.7.6"
  }
 },
 "nbformat": 4,
 "nbformat_minor": 2
}
