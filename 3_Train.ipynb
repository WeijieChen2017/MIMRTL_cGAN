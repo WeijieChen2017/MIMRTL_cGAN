{
 "cells": [
  {
   "cell_type": "code",
   "execution_count": 2,
   "metadata": {},
   "outputs": [],
   "source": [
    "import os\n",
    "os.chdir('pytorch-CycleGAN-and-pix2pix/')"
   ]
  },
  {
   "cell_type": "code",
   "execution_count": 5,
   "metadata": {},
   "outputs": [],
   "source": [
    "para = ['3', '5', '7', '9', '11', '13']\n",
    "basic_command_1 = \"python train.py --dataroot ./datasets/sk\"\n",
    "basic_command_2 = \" --name sk\"\n",
    "basic_command_3 = \" --model pix2pix --direction BtoA --batch_size 80 --gpu_ids 0 --save_epoch_freq 25 --n_epochs 100 --n_epochs_decay 100\""
   ]
  },
  {
   "cell_type": "code",
   "execution_count": 7,
   "metadata": {},
   "outputs": [
    {
     "name": "stdout",
     "output_type": "stream",
     "text": [
      "python train.py --dataroot ./datasets/sk3 --name sk3 --model pix2pix --direction BtoA --batch_size 80 --gpu_ids 0 --save_epoch_freq 25 --n_epochs 100 --n_epochs_decay 100\n",
      "python train.py --dataroot ./datasets/sk5 --name sk5 --model pix2pix --direction BtoA --batch_size 80 --gpu_ids 0 --save_epoch_freq 25 --n_epochs 100 --n_epochs_decay 100\n",
      "python train.py --dataroot ./datasets/sk7 --name sk7 --model pix2pix --direction BtoA --batch_size 80 --gpu_ids 0 --save_epoch_freq 25 --n_epochs 100 --n_epochs_decay 100\n",
      "python train.py --dataroot ./datasets/sk9 --name sk9 --model pix2pix --direction BtoA --batch_size 80 --gpu_ids 0 --save_epoch_freq 25 --n_epochs 100 --n_epochs_decay 100\n",
      "python train.py --dataroot ./datasets/sk11 --name sk11 --model pix2pix --direction BtoA --batch_size 80 --gpu_ids 0 --save_epoch_freq 25 --n_epochs 100 --n_epochs_decay 100\n",
      "python train.py --dataroot ./datasets/sk13 --name sk13 --model pix2pix --direction BtoA --batch_size 80 --gpu_ids 0 --save_epoch_freq 25 --n_epochs 100 --n_epochs_decay 100\n"
     ]
    }
   ],
   "source": [
    "for sk in para:\n",
    "    command = basic_command_1 + sk + basic_command_2 + sk + basic_command_3\n",
    "    print(command)\n",
    "    os.system(command)"
   ]
  },
  {
   "cell_type": "code",
   "execution_count": null,
   "metadata": {},
   "outputs": [],
   "source": [
    "!python train.py --dataroot ./datasets/subj01_t1b_inv --name subj01_inv_pix2pix --model pix2pix --direction BtoA --batch_size 72 --gpu_ids 0"
   ]
  }
 ],
 "metadata": {
  "kernelspec": {
   "display_name": "Python 3",
   "language": "python",
   "name": "python3"
  },
  "language_info": {
   "codemirror_mode": {
    "name": "ipython",
    "version": 3
   },
   "file_extension": ".py",
   "mimetype": "text/x-python",
   "name": "python",
   "nbconvert_exporter": "python",
   "pygments_lexer": "ipython3",
   "version": "3.7.6"
  }
 },
 "nbformat": 4,
 "nbformat_minor": 2
}
