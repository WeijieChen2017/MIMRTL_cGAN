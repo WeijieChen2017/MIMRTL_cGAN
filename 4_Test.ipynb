{
 "cells": [
  {
   "cell_type": "code",
   "execution_count": 3,
   "metadata": {},
   "outputs": [
    {
     "ename": "FileNotFoundError",
     "evalue": "[Errno 2] No such file or directory: 'pytorch-CycleGAN-and-pix2pix/'",
     "output_type": "error",
     "traceback": [
      "\u001b[0;31m---------------------------------------------------------------------------\u001b[0m",
      "\u001b[0;31mFileNotFoundError\u001b[0m                         Traceback (most recent call last)",
      "\u001b[0;32m<ipython-input-3-450078e766ce>\u001b[0m in \u001b[0;36m<module>\u001b[0;34m\u001b[0m\n\u001b[1;32m      1\u001b[0m \u001b[0;32mimport\u001b[0m \u001b[0mos\u001b[0m\u001b[0;34m\u001b[0m\u001b[0;34m\u001b[0m\u001b[0m\n\u001b[0;32m----> 2\u001b[0;31m \u001b[0mos\u001b[0m\u001b[0;34m.\u001b[0m\u001b[0mchdir\u001b[0m\u001b[0;34m(\u001b[0m\u001b[0;34m'pytorch-CycleGAN-and-pix2pix/'\u001b[0m\u001b[0;34m)\u001b[0m\u001b[0;34m\u001b[0m\u001b[0;34m\u001b[0m\u001b[0m\n\u001b[0m",
      "\u001b[0;31mFileNotFoundError\u001b[0m: [Errno 2] No such file or directory: 'pytorch-CycleGAN-and-pix2pix/'"
     ]
    }
   ],
   "source": [
    "import os\n",
    "os.chdir('pytorch-CycleGAN-and-pix2pix/')"
   ]
  },
  {
   "cell_type": "code",
   "execution_count": 7,
   "metadata": {},
   "outputs": [
    {
     "name": "stdout",
     "output_type": "stream",
     "text": [
      "----------------- Options ---------------\n",
      "             aspect_ratio: 1.0                           \n",
      "               batch_size: 1                             \n",
      "          checkpoints_dir: ./checkpoints                 \n",
      "                crop_size: 256                           \n",
      "                 dataroot: ./datasets/subj01_t1b_inv     \t[default: None]\n",
      "             dataset_mode: single                        \n",
      "                direction: BtoA                          \t[default: AtoB]\n",
      "          display_winsize: 256                           \n",
      "                    epoch: latest                        \n",
      "                     eval: False                         \n",
      "                  gpu_ids: 0                             \n",
      "                init_gain: 0.02                          \n",
      "                init_type: normal                        \n",
      "                 input_nc: 3                             \n",
      "                  isTrain: False                         \t[default: None]\n",
      "                load_iter: 0                             \t[default: 0]\n",
      "                load_size: 256                           \n",
      "         max_dataset_size: inf                           \n",
      "                    model: test                          \n",
      "             model_suffix:                               \n",
      "               n_layers_D: 3                             \n",
      "                     name: 2d_enhanced_v4                \t[default: experiment_name]\n",
      "                      ndf: 64                            \n",
      "                     netD: basic                         \n",
      "                     netG: unet_256                      \t[default: resnet_9blocks]\n",
      "                      ngf: 64                            \n",
      "               no_dropout: False                         \n",
      "                  no_flip: False                         \n",
      "                     norm: batch                         \t[default: instance]\n",
      "                    ntest: inf                           \n",
      "                 num_test: 300                           \t[default: 50]\n",
      "              num_threads: 4                             \n",
      "                output_nc: 3                             \n",
      "                    phase: test                          \n",
      "               preprocess: resize_and_crop               \n",
      "              results_dir: ./results/                    \n",
      "           serial_batches: False                         \n",
      "                   suffix:                               \n",
      "                  verbose: False                         \n",
      "----------------- End -------------------\n",
      "dataset [SingleDataset] was created\n",
      "initialize network with normal\n",
      "model [TestModel] was created\n",
      "loading the model from ./checkpoints/2d_enhanced_v4/latest_net_G.pth\n",
      "---------- Networks initialized -------------\n",
      "[Network G] Total number of parameters : 54.414 M\n",
      "-----------------------------------------------\n",
      "creating web directory ./results/2d_enhanced_v4/test_latest\n",
      "processing (0000)-th image... ['./datasets/subj01_t1b_inv/test/subj01_pet_0.npy']\n",
      "processing (0005)-th image... ['./datasets/subj01_t1b_inv/test/subj01_pet_102.npy']\n",
      "processing (0010)-th image... ['./datasets/subj01_t1b_inv/test/subj01_pet_107.npy']\n",
      "processing (0015)-th image... ['./datasets/subj01_t1b_inv/test/subj01_pet_111.npy']\n",
      "processing (0020)-th image... ['./datasets/subj01_t1b_inv/test/subj01_pet_116.npy']\n",
      "processing (0025)-th image... ['./datasets/subj01_t1b_inv/test/subj01_pet_120.npy']\n",
      "processing (0030)-th image... ['./datasets/subj01_t1b_inv/test/subj01_pet_125.npy']\n",
      "processing (0035)-th image... ['./datasets/subj01_t1b_inv/test/subj01_pet_13.npy']\n",
      "processing (0040)-th image... ['./datasets/subj01_t1b_inv/test/subj01_pet_134.npy']\n",
      "processing (0045)-th image... ['./datasets/subj01_t1b_inv/test/subj01_pet_139.npy']\n",
      "processing (0050)-th image... ['./datasets/subj01_t1b_inv/test/subj01_pet_143.npy']\n",
      "processing (0055)-th image... ['./datasets/subj01_t1b_inv/test/subj01_pet_148.npy']\n",
      "processing (0060)-th image... ['./datasets/subj01_t1b_inv/test/subj01_pet_152.npy']\n",
      "processing (0065)-th image... ['./datasets/subj01_t1b_inv/test/subj01_pet_157.npy']\n",
      "processing (0070)-th image... ['./datasets/subj01_t1b_inv/test/subj01_pet_161.npy']\n",
      "processing (0075)-th image... ['./datasets/subj01_t1b_inv/test/subj01_pet_166.npy']\n",
      "processing (0080)-th image... ['./datasets/subj01_t1b_inv/test/subj01_pet_170.npy']\n",
      "processing (0085)-th image... ['./datasets/subj01_t1b_inv/test/subj01_pet_175.npy']\n",
      "processing (0090)-th image... ['./datasets/subj01_t1b_inv/test/subj01_pet_18.npy']\n",
      "processing (0095)-th image... ['./datasets/subj01_t1b_inv/test/subj01_pet_184.npy']\n",
      "processing (0100)-th image... ['./datasets/subj01_t1b_inv/test/subj01_pet_189.npy']\n",
      "processing (0105)-th image... ['./datasets/subj01_t1b_inv/test/subj01_pet_193.npy']\n",
      "processing (0110)-th image... ['./datasets/subj01_t1b_inv/test/subj01_pet_198.npy']\n",
      "processing (0115)-th image... ['./datasets/subj01_t1b_inv/test/subj01_pet_201.npy']\n",
      "processing (0120)-th image... ['./datasets/subj01_t1b_inv/test/subj01_pet_206.npy']\n",
      "processing (0125)-th image... ['./datasets/subj01_t1b_inv/test/subj01_pet_210.npy']\n",
      "processing (0130)-th image... ['./datasets/subj01_t1b_inv/test/subj01_pet_215.npy']\n",
      "processing (0135)-th image... ['./datasets/subj01_t1b_inv/test/subj01_pet_22.npy']\n",
      "processing (0140)-th image... ['./datasets/subj01_t1b_inv/test/subj01_pet_224.npy']\n",
      "processing (0145)-th image... ['./datasets/subj01_t1b_inv/test/subj01_pet_229.npy']\n",
      "processing (0150)-th image... ['./datasets/subj01_t1b_inv/test/subj01_pet_233.npy']\n",
      "processing (0155)-th image... ['./datasets/subj01_t1b_inv/test/subj01_pet_238.npy']\n",
      "processing (0160)-th image... ['./datasets/subj01_t1b_inv/test/subj01_pet_242.npy']\n",
      "processing (0165)-th image... ['./datasets/subj01_t1b_inv/test/subj01_pet_247.npy']\n",
      "processing (0170)-th image... ['./datasets/subj01_t1b_inv/test/subj01_pet_251.npy']\n",
      "processing (0175)-th image... ['./datasets/subj01_t1b_inv/test/subj01_pet_256.npy']\n",
      "processing (0180)-th image... ['./datasets/subj01_t1b_inv/test/subj01_pet_260.npy']\n",
      "processing (0185)-th image... ['./datasets/subj01_t1b_inv/test/subj01_pet_265.npy']\n",
      "processing (0190)-th image... ['./datasets/subj01_t1b_inv/test/subj01_pet_27.npy']\n",
      "processing (0195)-th image... ['./datasets/subj01_t1b_inv/test/subj01_pet_274.npy']\n",
      "processing (0200)-th image... ['./datasets/subj01_t1b_inv/test/subj01_pet_279.npy']\n",
      "processing (0205)-th image... ['./datasets/subj01_t1b_inv/test/subj01_pet_283.npy']\n",
      "processing (0210)-th image... ['./datasets/subj01_t1b_inv/test/subj01_pet_32.npy']\n",
      "processing (0215)-th image... ['./datasets/subj01_t1b_inv/test/subj01_pet_37.npy']\n",
      "processing (0220)-th image... ['./datasets/subj01_t1b_inv/test/subj01_pet_41.npy']\n",
      "processing (0225)-th image... ['./datasets/subj01_t1b_inv/test/subj01_pet_46.npy']\n",
      "processing (0230)-th image... ['./datasets/subj01_t1b_inv/test/subj01_pet_50.npy']\n",
      "processing (0235)-th image... ['./datasets/subj01_t1b_inv/test/subj01_pet_55.npy']\n",
      "processing (0240)-th image... ['./datasets/subj01_t1b_inv/test/subj01_pet_6.npy']\n",
      "processing (0245)-th image... ['./datasets/subj01_t1b_inv/test/subj01_pet_64.npy']\n",
      "processing (0250)-th image... ['./datasets/subj01_t1b_inv/test/subj01_pet_69.npy']\n",
      "processing (0255)-th image... ['./datasets/subj01_t1b_inv/test/subj01_pet_73.npy']\n",
      "processing (0260)-th image... ['./datasets/subj01_t1b_inv/test/subj01_pet_78.npy']\n",
      "processing (0265)-th image... ['./datasets/subj01_t1b_inv/test/subj01_pet_82.npy']\n",
      "processing (0270)-th image... ['./datasets/subj01_t1b_inv/test/subj01_pet_87.npy']\n",
      "processing (0275)-th image... ['./datasets/subj01_t1b_inv/test/subj01_pet_91.npy']\n",
      "processing (0280)-th image... ['./datasets/subj01_t1b_inv/test/subj01_pet_96.npy']\n",
      "processing (0285)-th image... ['./datasets/subj01_t1b_inv/train/fwhm_9_subj01_t1bravo_brain_inv_mask_p1radon_NO_1.npy']\n",
      "processing (0290)-th image... ['./datasets/subj01_t1b_inv/train/fwhm_9_subj01_t1bravo_brain_inv_mask_p1radon_NO_103.npy']\n",
      "processing (0295)-th image... ['./datasets/subj01_t1b_inv/train/fwhm_9_subj01_t1bravo_brain_inv_mask_p1radon_NO_108.npy']\n"
     ]
    }
   ],
   "source": [
    "!python test.py --dataroot ./datasets/subj01_t1b_inv --direction BtoA --model test --name 2d_enhanced_v4 --netG unet_256 --dataset_mode single --norm batch --num_test 300"
   ]
  },
  {
   "cell_type": "code",
   "execution_count": 8,
   "metadata": {},
   "outputs": [],
   "source": [
    "para = ['3', '5', '7', '9', '11', '13']\n",
    "basic_command_1 = \"python test.py --dataroot ./datasets/subj01_t1b_inv --direction BtoA --model test\"\n",
    "basic_command_2 = \" --name sk\"\n",
    "basic_command_3 = \" --netG unet_256 --dataset_mode single --norm batch --num_test 300\""
   ]
  },
  {
   "cell_type": "code",
   "execution_count": 13,
   "metadata": {},
   "outputs": [
    {
     "name": "stdout",
     "output_type": "stream",
     "text": [
      "python test.py --dataroot ./datasets/subj01_t1b_inv --direction BtoA --model test --name sk3 --netG unet_256 --dataset_mode single --norm batch --num_test 300\n"
     ]
    }
   ],
   "source": [
    "for sk in para:\n",
    "    if sk == \"3\":\n",
    "        command = basic_command_1 + basic_command_2 + sk + basic_command_3\n",
    "        print(command)\n",
    "        os.system(command)"
   ]
  },
  {
   "cell_type": "code",
   "execution_count": 14,
   "metadata": {},
   "outputs": [
    {
     "data": {
      "text/plain": [
       "256"
      ]
     },
     "execution_count": 14,
     "metadata": {},
     "output_type": "execute_result"
    }
   ],
   "source": [
    "os.system(command)"
   ]
  },
  {
   "cell_type": "code",
   "execution_count": 16,
   "metadata": {},
   "outputs": [
    {
     "name": "stdout",
     "output_type": "stream",
     "text": [
      "----------------- Options ---------------\n",
      "             aspect_ratio: 1.0                           \n",
      "               batch_size: 1                             \n",
      "          checkpoints_dir: ./checkpoints                 \n",
      "                crop_size: 256                           \n",
      "                 dataroot: ./datasets/subj01_t1b_inv     \t[default: None]\n",
      "             dataset_mode: single                        \n",
      "                direction: BtoA                          \t[default: AtoB]\n",
      "          display_winsize: 256                           \n",
      "                    epoch: latest                        \n",
      "                     eval: False                         \n",
      "                  gpu_ids: 0                             \n",
      "                init_gain: 0.02                          \n",
      "                init_type: normal                        \n",
      "                 input_nc: 3                             \n",
      "                  isTrain: False                         \t[default: None]\n",
      "                load_iter: 0                             \t[default: 0]\n",
      "                load_size: 256                           \n",
      "         max_dataset_size: inf                           \n",
      "                    model: test                          \n",
      "             model_suffix:                               \n",
      "               n_layers_D: 3                             \n",
      "                     name: sk3                           \t[default: experiment_name]\n",
      "                      ndf: 64                            \n",
      "                     netD: basic                         \n",
      "                     netG: resnet_9blocks                \n",
      "                      ngf: 64                            \n",
      "               no_dropout: False                         \n",
      "                  no_flip: False                         \n",
      "                     norm: instance                      \n",
      "                    ntest: inf                           \n",
      "                 num_test: 50                            \n",
      "              num_threads: 4                             \n",
      "                output_nc: 3                             \n",
      "                    phase: test                          \n",
      "               preprocess: resize_and_crop               \n",
      "              results_dir: ./results/                    \n",
      "           serial_batches: False                         \n",
      "                   suffix:                               \n",
      "                  verbose: False                         \n",
      "----------------- End -------------------\n",
      "Traceback (most recent call last):\n",
      "  File \"test.py\", line 38, in <module>\n",
      "    opt = TestOptions().parse()  # get test options\n",
      "  File \"/data/users/wchen/unet/pytorch-CycleGAN-and-pix2pix/options/base_options.py\", line 123, in parse\n",
      "    self.print_options(opt)\n",
      "  File \"/data/users/wchen/unet/pytorch-CycleGAN-and-pix2pix/options/base_options.py\", line 111, in print_options\n",
      "    opt_file.write('\\n')\n",
      "OSError: [Errno 5] Input/output error\n"
     ]
    }
   ],
   "source": [
    "!python test.py --dataroot ./datasets/subj01_t1b_inv --direction BtoA --model test --name sk3 --netG unet_256 --dataset_mode single --norm batch --num_test 300"
   ]
  },
  {
   "cell_type": "code",
   "execution_count": null,
   "metadata": {},
   "outputs": [],
   "source": []
  }
 ],
 "metadata": {
  "kernelspec": {
   "display_name": "Python 3",
   "language": "python",
   "name": "python3"
  },
  "language_info": {
   "codemirror_mode": {
    "name": "ipython",
    "version": 3
   },
   "file_extension": ".py",
   "mimetype": "text/x-python",
   "name": "python",
   "nbconvert_exporter": "python",
   "pygments_lexer": "ipython3",
   "version": "3.7.6"
  }
 },
 "nbformat": 4,
 "nbformat_minor": 2
}
