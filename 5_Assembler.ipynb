{
 "cells": [
  {
   "cell_type": "code",
   "execution_count": 5,
   "metadata": {},
   "outputs": [],
   "source": [
    "import os\n",
    "import glob\n",
    "import cv2\n",
    "import numpy as np\n",
    "import nibabel as nib\n",
    "import matplotlib.pyplot as plt"
   ]
  },
  {
   "cell_type": "code",
   "execution_count": 8,
   "metadata": {},
   "outputs": [
    {
     "name": "stdout",
     "output_type": "stream",
     "text": [
      "./data/2d_enhanced_v4/test/subj01_pet.nii\n",
      "------------------------------------------------------------\n",
      "----------------------Finished------------------------------\n",
      "------------------------------------------------------------\n"
     ]
    }
   ],
   "source": [
    "name_dataset = \"2d_enhanced_v4\"\n",
    "# test_folder = \"testB\"\n",
    "\n",
    "list_ori = glob.glob(\"./data/\"+name_dataset+\"/test/*.nii\")\n",
    "# list_ori = glob.glob(\"./data/pure_unet/test/*.nii\")\n",
    "list_ori.sort()\n",
    "for path_ori in list_ori:\n",
    "    print(path_ori)\n",
    "    nii_name = os.path.basename(path_ori)[:-4]\n",
    "    nii_file = nib.load(path_ori)\n",
    "    nii_data = np.asanyarray(nii_file.dataobj)\n",
    "    \n",
    "    \n",
    "    pred_real = np.zeros((nii_data.shape[0], nii_data.shape[1], nii_data.shape[2]))\n",
    "    pred_fake = np.zeros((nii_data.shape[0], nii_data.shape[1], nii_data.shape[2]))\n",
    "    \n",
    "    for idx in range(nii_data.shape[2]):\n",
    "        path_real = \"./pytorch-CycleGAN-and-pix2pix/results/\"+name_dataset+\"/test_latest/images/\"+nii_name+\"_\"+str(idx)+\"_real.npy\"\n",
    "#         img = cv2.resize(np.asarray(plt.imread(path_real)), dsize=(nii_data.shape[0], nii_data.shape[1]), interpolation=cv2.INTER_CUBIC)\n",
    "        img = np.load(path_real)\n",
    "        pred_real[:, :, idx] = img[:, :, 1]\n",
    "\n",
    "        path_fake = \"./pytorch-CycleGAN-and-pix2pix/results/\"+name_dataset+\"/test_latest/images/\"+nii_name+\"_\"+str(idx)+\"_fake.npy\"\n",
    "#         img = cv2.resize(np.asarray(plt.imread(path_fake)), dsize=(nii_data.shape[0], nii_data.shape[1]), interpolation=cv2.INTER_CUBIC)\n",
    "        img = np.load(path_fake)\n",
    "        pred_fake[:, :, idx] = img[:, :, 1]\n",
    "    \n",
    "    factor_r = np.sum(nii_data)/np.sum(pred_real)\n",
    "    factor_f = np.sum(nii_data)/np.sum(pred_fake)\n",
    "    \n",
    "# #     print(path_ori.replace(\"pet\", \"water\"))\n",
    "# #     nii_file = nib.load(path_ori.replace(\"pet\", \"water\"))\n",
    "    \n",
    "    file_real = nib.Nifti1Image(pred_real*factor_r, nii_file.affine, nii_file.header)\n",
    "    nib.save(file_real, \"./\"+nii_name+\"_\"+name_dataset+\"_real.nii\")\n",
    "    file_fake = nib.Nifti1Image(pred_fake*factor_f, nii_file.affine, nii_file.header)\n",
    "    nib.save(file_fake, \"./\"+nii_name+\"_\"+name_dataset+\"_fake.nii\")\n",
    "print(\"------------------------------------------------------------\")\n",
    "print(\"----------------------Finished------------------------------\")\n",
    "print(\"------------------------------------------------------------\")"
   ]
  },
  {
   "cell_type": "code",
   "execution_count": null,
   "metadata": {},
   "outputs": [],
   "source": []
  }
 ],
 "metadata": {
  "kernelspec": {
   "display_name": "Python 3",
   "language": "python",
   "name": "python3"
  },
  "language_info": {
   "codemirror_mode": {
    "name": "ipython",
    "version": 3
   },
   "file_extension": ".py",
   "mimetype": "text/x-python",
   "name": "python",
   "nbconvert_exporter": "python",
   "pygments_lexer": "ipython3",
   "version": "3.7.6"
  }
 },
 "nbformat": 4,
 "nbformat_minor": 2
}
